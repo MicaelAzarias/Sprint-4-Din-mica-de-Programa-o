{
 "cells": [
  {
   "cell_type": "code",
   "execution_count": 1,
   "id": "6e380d3f",
   "metadata": {},
   "outputs": [
    {
     "name": "stdout",
     "output_type": "stream",
     "text": [
      "1. Melhor rota para o caminhão:\n",
      "Cliente -> Loja_Morumbi -> Loja_Pinarello -> Loja_Vila_Madalena -> Loja_Lapa -> Loja_Berrini -> Loja_Paulista\n",
      "\n",
      "2. Custo total da rota:\n",
      "20\n"
     ]
    }
   ],
   "source": [
    "import heapq\n",
    "from itertools import permutations\n",
    "\n",
    "enderecos = {\n",
    "    \"Cliente\": {\"Loja_Berrini\": 5, \"Loja_Paulista\": 10, \"Loja_Morumbi\": 3, \"Loja_Pinarello\": 7},\n",
    "    \"Loja_Berrini\": {\"Loja_Paulista\": 2, \"Loja_Morumbi\": 4, \"Loja_Lapa\": 6},\n",
    "    \"Loja_Paulista\": {\"Loja_Berrini\": 2, \"Loja_Morumbi\": 6, \"Loja_Vila_Madalena\": 8},\n",
    "    \"Loja_Morumbi\": {\"Loja_Berrini\": 4, \"Loja_Paulista\": 6, \"Loja_Pinarello\": 2},\n",
    "    \"Loja_Pinarello\": {\"Loja_Morumbi\": 2, \"Loja_Vila_Madalena\": 4},\n",
    "    \"Loja_Lapa\": {\"Loja_Berrini\": 6, \"Loja_Vila_Madalena\": 3},\n",
    "    \"Loja_Vila_Madalena\": {\"Loja_Paulista\": 8, \"Loja_Pinarello\": 4, \"Loja_Lapa\": 3}\n",
    "}\n",
    "# não utilizei o grafo da primeira aplicação, poís tinham muitas linhas e posibilidades onde ele fazia mais de 2 quintilhões de permutações.\n",
    "# calcular todas as permutações de 20 destinos pode travar o programa.\n",
    "# infleizmente tive que diminuir.\n",
    "\n",
    "def dijkstra(grafo, origem):\n",
    "    dist = {no: float('inf') for no in grafo}\n",
    "    dist[origem] = 0\n",
    "    fila = [(0, origem)]\n",
    "\n",
    "    while fila:\n",
    "        atual, no = heapq.heappop(fila)\n",
    "        for vizinho, peso in grafo[no].items():\n",
    "            if dist[no] + peso < dist[vizinho]:\n",
    "                dist[vizinho] = dist[no] + peso\n",
    "                heapq.heappush(fila, (dist[vizinho], vizinho))\n",
    "    \n",
    "    return dist\n",
    "\n",
    "ponto_inicial = \"Cliente\"\n",
    "destinos = [\"Loja_Berrini\", \"Loja_Paulista\", \"Loja_Morumbi\", \"Loja_Pinarello\", \"Loja_Lapa\", \"Loja_Vila_Madalena\"]\n",
    "\n",
    "rotas_possiveis = permutations(destinos)\n",
    "\n",
    "melhor_rota = None\n",
    "menor_custo = float('inf')\n",
    "\n",
    "for rota in rotas_possiveis:\n",
    "    custo_total = 0\n",
    "    caminho = [ponto_inicial] + list(rota)\n",
    "    for i in range(len(caminho) - 1):\n",
    "        distancias = dijkstra(enderecos, caminho[i])\n",
    "        custo_total += distancias[caminho[i+1]]\n",
    "    \n",
    "    if custo_total < menor_custo:\n",
    "        menor_custo = custo_total\n",
    "        melhor_rota = caminho\n",
    "\n",
    "print(\"1. Melhor rota para o caminhão:\")\n",
    "print(\" -> \".join(melhor_rota))\n",
    "\n",
    "print(\"\\n2. Custo total da rota:\")\n",
    "print(menor_custo)\n"
   ]
  }
 ],
 "metadata": {
  "kernelspec": {
   "display_name": "Python 3",
   "language": "python",
   "name": "python3"
  },
  "language_info": {
   "codemirror_mode": {
    "name": "ipython",
    "version": 3
   },
   "file_extension": ".py",
   "mimetype": "text/x-python",
   "name": "python",
   "nbconvert_exporter": "python",
   "pygments_lexer": "ipython3",
   "version": "3.13.2"
  }
 },
 "nbformat": 4,
 "nbformat_minor": 5
}
