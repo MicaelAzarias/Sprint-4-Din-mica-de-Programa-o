{
 "cells": [
  {
   "cell_type": "code",
   "execution_count": 1,
   "id": "4c8dcc8f",
   "metadata": {},
   "outputs": [
    {
     "name": "stdout",
     "output_type": "stream",
     "text": [
      "1. Menor distância do comprador até cada loja:\n",
      "{'Cliente': 0, 'Loja_Berrini': 5, 'Loja_Paulista': 7, 'Loja_Morumbi': 3, 'Loja_Pinarello': 5, 'Loja_Pirituba': 11, 'Loja_Lapa': 11, 'Loja_Vila_Madalena': 9, 'Loja_Butanta': 11, 'Loja_Saude': 17, 'Loja_Centro': 17, 'Loja_Bras': 17, 'Loja_Luz': 15, 'Loja_Mooca': 14, 'Loja_Tatuape': 10, 'Loja_Jabaquara': 22, 'Loja_Diadema': 28, 'Loja_Santo_Andre': 32, 'Loja_Sao_Bernardo': 27, 'Loja_Sao_Caetano': 24, 'Loja_Santana': 14}\n",
      "\n",
      "2. Loja mais próxima do comprador:\n",
      "Loja_Morumbi\n",
      "\n",
      "3. Lojas em ordem de proximidade:\n",
      "[('Loja_Morumbi', 3), ('Loja_Berrini', 5), ('Loja_Pinarello', 5), ('Loja_Paulista', 7), ('Loja_Vila_Madalena', 9), ('Loja_Tatuape', 10), ('Loja_Pirituba', 11), ('Loja_Lapa', 11), ('Loja_Butanta', 11), ('Loja_Mooca', 14), ('Loja_Santana', 14), ('Loja_Luz', 15), ('Loja_Saude', 17), ('Loja_Centro', 17), ('Loja_Bras', 17), ('Loja_Jabaquara', 22), ('Loja_Sao_Caetano', 24), ('Loja_Sao_Bernardo', 27), ('Loja_Diadema', 28), ('Loja_Santo_Andre', 32)]\n"
     ]
    }
   ],
   "source": [
    "import heapq\n",
    "\n",
    "grafo = {\n",
    "    \"Cliente\": {\"Loja_Berrini\": 5, \"Loja_Paulista\": 10, \"Loja_Morumbi\": 3, \"Loja_Pinarello\": 7},\n",
    "    \"Loja_Berrini\": {\"Loja_Paulista\": 2, \"Loja_Morumbi\": 4, \"Loja_Lapa\": 6, \"Loja_Santana\": 9},\n",
    "    \"Loja_Paulista\": {\"Loja_Berrini\": 2, \"Loja_Morumbi\": 6, \"Loja_Vila_Madalena\": 8, \"Loja_Butanta\": 5},\n",
    "    \"Loja_Morumbi\": {\"Loja_Berrini\": 4, \"Loja_Paulista\": 6, \"Loja_Pinarello\": 2, \"Loja_Tatuape\": 7},\n",
    "    \"Loja_Pinarello\": {\"Loja_Morumbi\": 2, \"Loja_Vila_Madalena\": 4, \"Loja_Pirituba\": 6},\n",
    "    \"Loja_Pirituba\": {\"Loja_Pinarello\": 6},\n",
    "    \"Loja_Lapa\": {\"Loja_Berrini\": 6, \"Loja_Vila_Madalena\": 3, \"Loja_Bras\": 9},\n",
    "    \"Loja_Vila_Madalena\": {\"Loja_Paulista\": 8, \"Loja_Pinarello\": 4, \"Loja_Lapa\": 3, \"Loja_Butanta\": 2},\n",
    "    \"Loja_Butanta\": {\"Loja_Paulista\": 5, \"Loja_Vila_Madalena\": 2, \"Loja_Saude\": 6},\n",
    "    \"Loja_Saude\": {\"Loja_Butanta\": 6, \"Loja_Centro\": 3, \"Loja_Jabaquara\": 5},\n",
    "    \"Loja_Centro\": {\"Loja_Saude\": 3, \"Loja_Bras\": 4, \"Loja_Luz\": 2},\n",
    "    \"Loja_Bras\": {\"Loja_Lapa\": 9, \"Loja_Centro\": 4, \"Loja_Mooca\": 3},\n",
    "    \"Loja_Luz\": {\"Loja_Centro\": 2, \"Loja_Tatuape\": 5},\n",
    "    \"Loja_Mooca\": {\"Loja_Bras\": 3, \"Loja_Tatuape\": 4},\n",
    "    \"Loja_Tatuape\": {\"Loja_Morumbi\": 7, \"Loja_Luz\": 5, \"Loja_Mooca\": 4},\n",
    "    \"Loja_Jabaquara\": {\"Loja_Saude\": 5, \"Loja_Diadema\": 6},\n",
    "    \"Loja_Diadema\": {\"Loja_Jabaquara\": 6, \"Loja_Santo_Andre\": 7},\n",
    "    \"Loja_Santo_Andre\": {\"Loja_Diadema\": 7, \"Loja_Sao_Bernardo\": 5},\n",
    "    \"Loja_Sao_Bernardo\": {\"Loja_Santo_Andre\": 5, \"Loja_Sao_Caetano\": 3},\n",
    "    \"Loja_Sao_Caetano\": {\"Loja_Sao_Bernardo\": 3, \"Loja_Santana\": 10},\n",
    "    \"Loja_Santana\": {\"Loja_Berrini\": 9, \"Loja_Sao_Caetano\": 10}\n",
    "}\n",
    "\n",
    "def menor_caminho(grafo, origem):\n",
    "    distancias = {no: float('inf') for no in grafo}\n",
    "    distancias[origem] = 0\n",
    "    fila = [(0, origem)]\n",
    "\n",
    "    while fila:\n",
    "        distancia_atual, no_atual = heapq.heappop(fila)\n",
    "\n",
    "        for vizinho, peso in grafo[no_atual].items():\n",
    "            nova_distancia = distancia_atual + peso\n",
    "            if nova_distancia < distancias[vizinho]:\n",
    "                distancias[vizinho] = nova_distancia\n",
    "                heapq.heappush(fila, (nova_distancia, vizinho))\n",
    "\n",
    "    return distancias\n",
    "\n",
    "distancias = menor_caminho(grafo, \"Cliente\")\n",
    "print(\"1. Menor distância do comprador até cada loja:\")\n",
    "print(distancias)\n",
    "\n",
    "mais_proxima = min(\n",
    "    {k: v for k, v in distancias.items() if k.startswith(\"Loja\")}, key=distancias.get)\n",
    "print(\"\\n2. Loja mais próxima do comprador:\")\n",
    "print(mais_proxima)\n",
    "\n",
    "ordem = sorted(\n",
    "    {k: v for k, v in distancias.items() if k.startswith(\"Loja\")}.items(), key=lambda x: x[1])\n",
    "print(\"\\n3. Lojas em ordem de proximidade:\")\n",
    "print(ordem)\n"
   ]
  }
 ],
 "metadata": {
  "kernelspec": {
   "display_name": "Python 3",
   "language": "python",
   "name": "python3"
  },
  "language_info": {
   "codemirror_mode": {
    "name": "ipython",
    "version": 3
   },
   "file_extension": ".py",
   "mimetype": "text/x-python",
   "name": "python",
   "nbconvert_exporter": "python",
   "pygments_lexer": "ipython3",
   "version": "3.13.2"
  }
 },
 "nbformat": 4,
 "nbformat_minor": 5
}
